{
 "cells": [
  {
   "cell_type": "markdown",
   "metadata": {},
   "source": [
    "# Python"
   ]
  },
  {
   "cell_type": "markdown",
   "metadata": {},
   "source": [
    "## NumPy"
   ]
  },
  {
   "cell_type": "markdown",
   "metadata": {},
   "source": [
    "**Numpy** - библиотека для высокопроизводительных вычислений. Является фундаментальной."
   ]
  },
  {
   "cell_type": "markdown",
   "metadata": {},
   "source": [
    "Особенности:\n",
    "\n",
    "- Поддержка многомерных массивов\n",
    "- Наличие математических функций\n",
    "- Быстрое преобразование массивов\n",
    "- Поддержка линейной алгебры"
   ]
  },
  {
   "cell_type": "code",
   "execution_count": 1,
   "metadata": {},
   "outputs": [],
   "source": [
    "import numpy as np"
   ]
  },
  {
   "cell_type": "markdown",
   "metadata": {},
   "source": [
    "### Массивы"
   ]
  },
  {
   "cell_type": "markdown",
   "metadata": {},
   "source": [
    "**Многомерный массив (ndarray)** - многомерный массив элементов одного типа."
   ]
  },
  {
   "cell_type": "code",
   "execution_count": 2,
   "metadata": {},
   "outputs": [
    {
     "name": "stdout",
     "output_type": "stream",
     "text": [
      "[ 1 -3  2  7]\n"
     ]
    }
   ],
   "source": [
    "# Создание одномерного numpy массива\n",
    "list1 = [1, -3, 2, 7]\n",
    "ndarr1 = np.array(list1)\n",
    "print(ndarr1)"
   ]
  },
  {
   "cell_type": "code",
   "execution_count": 7,
   "metadata": {},
   "outputs": [
    {
     "name": "stdout",
     "output_type": "stream",
     "text": [
      "[[1 2 3]\n",
      " [4 5 6]]\n",
      "(2, 3)\n"
     ]
    }
   ],
   "source": [
    "# Создание двумерного numpy массива\n",
    "\n",
    "list2 = [[1, 2, 3], [4, 5, 6]]\n",
    "ndarr2 = np.array(list2)\n",
    "print(ndarr2)\n",
    "print(ndarr2.shape)  # кортеж, содержащий размерность массива"
   ]
  },
  {
   "cell_type": "markdown",
   "metadata": {},
   "source": [
    "Изменение формы массива"
   ]
  },
  {
   "cell_type": "code",
   "execution_count": null,
   "metadata": {},
   "outputs": [],
   "source": [
    "list4 = np.arange(15)  # создание массива из 15 элементов\n",
    "print(\"1 dim array:\", list4)\n",
    "\n",
    "three_dim = list4.reshape((3, 5))  # преобразование в трехмерный массив\n",
    "print(\"1-to-3 dim:\", three_dim)\n",
    "\n",
    "one_dim1 = three_dim.flatten()  # преобразование в одномерный\n",
    "print(\"N-to-1 dim:\", one_dim1)\n",
    "\n",
    "one_dim2 = three_dim.reshape((15, ))  # преобразование в одномерный \n",
    "print(\"N-to-1 dim:\", one_dim2)\n",
    "\n",
    "transposed1 = three_dim.transpose()  # транспонирование\n",
    "print(\"Transposed:\", transposed1)\n",
    "\n",
    "transposed2 = three_dim.T  # транспонирование\n",
    "print(\"Transposed:\", transposed2)"
   ]
  },
  {
   "cell_type": "markdown",
   "metadata": {},
   "source": [
    "### Математические операции"
   ]
  },
  {
   "cell_type": "markdown",
   "metadata": {},
   "source": [
    "Массивы позволяют выполнять математические операции над целыми блоками данных:"
   ]
  },
  {
   "cell_type": "code",
   "execution_count": 10,
   "metadata": {},
   "outputs": [
    {
     "name": "stdout",
     "output_type": "stream",
     "text": [
      "[[1. 2. 3.]\n",
      " [4. 5. 6.]]\n",
      "[[ 100  400  900]\n",
      " [1600 2500 3600]]\n"
     ]
    }
   ],
   "source": [
    "list3 = [[10, 20, 30], [40, 50, 60]]\n",
    "ndarr3 = np.array(list3)\n",
    "print(ndarr3 / 10)  # деление каждого элемента массива на 10\n",
    "print(ndarr3 ** 2)  # возведение каждого элемента массива в квадрат"
   ]
  },
  {
   "cell_type": "markdown",
   "metadata": {},
   "source": [
    "Матричное умножение:"
   ]
  },
  {
   "cell_type": "code",
   "execution_count": 31,
   "metadata": {},
   "outputs": [
    {
     "name": "stdout",
     "output_type": "stream",
     "text": [
      "Matrix multiplication: [[ 5 14]\n",
      " [14 50]]\n"
     ]
    }
   ],
   "source": [
    "list5 = np.arange(6).reshape(2, 3)\n",
    "\n",
    "matrix_multipl = np.dot(list5, list5.T)\n",
    "print(\"Matrix multiplication:\", matrix_multipl)"
   ]
  },
  {
   "cell_type": "markdown",
   "metadata": {},
   "source": [
    "### Статистика"
   ]
  },
  {
   "cell_type": "code",
   "execution_count": 40,
   "metadata": {},
   "outputs": [
    {
     "name": "stdout",
     "output_type": "stream",
     "text": [
      "Mean: 3.5\n",
      "Sum: 28\n"
     ]
    }
   ],
   "source": [
    "list6 = np.arange(8)\n",
    "print(\"Mean:\", np.mean(list6))  # вычисление среднего\n",
    "print(\"Sum:\", np.sum(list6))  # вычисление суммы"
   ]
  },
  {
   "cell_type": "code",
   "execution_count": 41,
   "metadata": {},
   "outputs": [
    {
     "name": "stdout",
     "output_type": "stream",
     "text": [
      "[[0 1 2]\n",
      " [3 4 5]]\n",
      "Mean: [1.5 2.5 3.5]\n",
      "Mean: [1. 4.]\n"
     ]
    }
   ],
   "source": [
    "list7 = np.arange(6).reshape(2, 3)\n",
    "print(list7)\n",
    "print(\"Mean:\", np.mean(list7, axis=0))  # вычисление среднего по столбцам\n",
    "print(\"Mean:\", np.mean(list7, axis=1))  # вычисление среднего по строкам"
   ]
  },
  {
   "cell_type": "markdown",
   "metadata": {},
   "source": [
    "## Pandas"
   ]
  },
  {
   "cell_type": "markdown",
   "metadata": {},
   "source": [
    "**Pandas** - основная библиотека для анализа данных в Python. Разработана с использованием **numpy**."
   ]
  },
  {
   "cell_type": "code",
   "execution_count": 43,
   "metadata": {},
   "outputs": [],
   "source": [
    "import pandas as pd"
   ]
  },
  {
   "cell_type": "markdown",
   "metadata": {},
   "source": [
    "### Series"
   ]
  },
  {
   "cell_type": "markdown",
   "metadata": {},
   "source": [
    "**Series** - одномерный объект данных, содержащий массив данных (любого типа данных numpy) и связанный с ним массив меток данных, называемый его индексом."
   ]
  },
  {
   "cell_type": "code",
   "execution_count": 45,
   "metadata": {},
   "outputs": [
    {
     "name": "stdout",
     "output_type": "stream",
     "text": [
      "0    1\n",
      "1   -3\n",
      "2    2\n",
      "3    7\n",
      "dtype: int64\n"
     ]
    }
   ],
   "source": [
    "series1 = pd.Series([1, -3, 2, 7])\n",
    "print(series1)"
   ]
  },
  {
   "cell_type": "markdown",
   "metadata": {},
   "source": [
    "Столбец 1 - индекс\n",
    "\n",
    "Столбец 2 - значение"
   ]
  },
  {
   "cell_type": "code",
   "execution_count": 46,
   "metadata": {},
   "outputs": [
    {
     "name": "stdout",
     "output_type": "stream",
     "text": [
      "RangeIndex(start=0, stop=4, step=1)\n",
      "[ 1 -3  2  7]\n"
     ]
    }
   ],
   "source": [
    "print(series1.index)  # получение доступа к индексам\n",
    "print(series1.values)  # получение доступа к значениям"
   ]
  },
  {
   "cell_type": "markdown",
   "metadata": {},
   "source": [
    "При создании серии можно указать индексы вручную:"
   ]
  },
  {
   "cell_type": "code",
   "execution_count": 47,
   "metadata": {},
   "outputs": [
    {
     "name": "stdout",
     "output_type": "stream",
     "text": [
      "a    1\n",
      "b    2\n",
      "c    3\n",
      "d    4\n",
      "dtype: int64\n"
     ]
    }
   ],
   "source": [
    "series2 = pd.Series([1, 2, 3, 4], index=['a', 'b', 'c', 'd'])\n",
    "print(series2)"
   ]
  },
  {
   "cell_type": "markdown",
   "metadata": {},
   "source": [
    "При этом в сериях индексы могут повторяться:"
   ]
  },
  {
   "cell_type": "code",
   "execution_count": 49,
   "metadata": {},
   "outputs": [
    {
     "name": "stdout",
     "output_type": "stream",
     "text": [
      "a    1\n",
      "a    3\n",
      "dtype: int64\n"
     ]
    }
   ],
   "source": [
    "series2 = pd.Series([1, 2, 3, 4], index=['a', 'b', 'a', 'd'])\n",
    "print(series2['a'])"
   ]
  },
  {
   "cell_type": "markdown",
   "metadata": {},
   "source": [
    "Аналогично спискам numpy, с сериями можно выполнять математические операции:"
   ]
  },
  {
   "cell_type": "code",
   "execution_count": 50,
   "metadata": {},
   "outputs": [
    {
     "name": "stdout",
     "output_type": "stream",
     "text": [
      "0    10\n",
      "1    20\n",
      "2    30\n",
      "3    40\n",
      "dtype: int64\n"
     ]
    }
   ],
   "source": [
    "series3 = pd.Series([1,2,3,4])\n",
    "print(series3 * 10)"
   ]
  },
  {
   "cell_type": "markdown",
   "metadata": {},
   "source": [
    "### DataFrame"
   ]
  },
  {
   "cell_type": "markdown",
   "metadata": {},
   "source": [
    "**DataFrame** - табличная структура данных, содержащая упорядоченный набор столбцо, каждый из которых может иметь различный тип данных. Каждый столбец и строка является **series**."
   ]
  },
  {
   "cell_type": "code",
   "execution_count": 54,
   "metadata": {},
   "outputs": [
    {
     "name": "stdout",
     "output_type": "stream",
     "text": [
      "   column1 column2\n",
      "0       10      v1\n",
      "1       20      v2\n",
      "2       30      v3\n",
      "3       40      v4\n"
     ]
    }
   ],
   "source": [
    "data = {'column1': [10, 20, 30, 40], 'column2': ['v1', 'v2', 'v3', 'v4']}\n",
    "df = pd.DataFrame(data)\n",
    "print(df)"
   ]
  },
  {
   "cell_type": "markdown",
   "metadata": {},
   "source": [
    "Извлечение отдельных столбцов:"
   ]
  },
  {
   "cell_type": "code",
   "execution_count": 58,
   "metadata": {},
   "outputs": [
    {
     "name": "stdout",
     "output_type": "stream",
     "text": [
      "0    10\n",
      "1    20\n",
      "2    30\n",
      "3    40\n",
      "Name: column1, dtype: int64\n",
      "0    10\n",
      "1    20\n",
      "2    30\n",
      "3    40\n",
      "Name: column1, dtype: int64\n"
     ]
    }
   ],
   "source": [
    "print(df.column1)  # способ 1, методы создаются автоматичеки по названию столбцов\n",
    "print(df['column1'])  # способ 2"
   ]
  },
  {
   "cell_type": "markdown",
   "metadata": {},
   "source": [
    "Удобно использовать в качестве индекса уже готовый столбец данных:"
   ]
  },
  {
   "cell_type": "code",
   "execution_count": 59,
   "metadata": {},
   "outputs": [
    {
     "name": "stdout",
     "output_type": "stream",
     "text": [
      "    column1\n",
      "v1       10\n",
      "v2       20\n",
      "v3       30\n",
      "v4       40\n"
     ]
    }
   ],
   "source": [
    "df1 = pd.DataFrame(data, index=data['column2'], columns=['column1'])\n",
    "print(df1)"
   ]
  },
  {
   "cell_type": "markdown",
   "metadata": {},
   "source": [
    "Пример испорта данных из csv:"
   ]
  },
  {
   "cell_type": "code",
   "execution_count": null,
   "metadata": {},
   "outputs": [],
   "source": [
    "df3 = pd.read_csv(\n",
    "    \"some_csv_file.csv\",\n",
    "    delimiter=\",\",  # разделитель данных\n",
    "    index_col=\"some_column_name\",  # какой столбец выбрать для индексации\n",
    "    nrows=100,  # какое количество строк загрузить\n",
    "    decimal=\".\",  # какой знак использовать в качестве десятичного разделителя\n",
    "    usecols=['col1', 'col2']  # какие столбцы загрузить\n",
    ")"
   ]
  },
  {
   "cell_type": "markdown",
   "metadata": {},
   "source": [
    "Фильтрация строк:"
   ]
  },
  {
   "cell_type": "code",
   "execution_count": 67,
   "metadata": {},
   "outputs": [
    {
     "name": "stdout",
     "output_type": "stream",
     "text": [
      "   col1 col2\n",
      "1    20   v2\n",
      "2    30   v3\n",
      "3    40   v2\n"
     ]
    }
   ],
   "source": [
    "df4 = pd.DataFrame({\"col1\": [10, 20, 30, 40], \"col2\": [\"1\", \"v2\", \"v3\", \"v2\"]})\n",
    "\n",
    "print(df4[(df4.col1 > 10)])"
   ]
  },
  {
   "cell_type": "code",
   "execution_count": 68,
   "metadata": {},
   "outputs": [
    {
     "name": "stdout",
     "output_type": "stream",
     "text": [
      "   col1 col2\n",
      "3    40   v2\n"
     ]
    }
   ],
   "source": [
    "print(df4[(df4.col1 > 30) & (df4.col2 == \"v2\")])"
   ]
  },
  {
   "cell_type": "markdown",
   "metadata": {},
   "source": [
    "Удаление столбцов/строк:"
   ]
  },
  {
   "cell_type": "code",
   "execution_count": 72,
   "metadata": {},
   "outputs": [
    {
     "name": "stdout",
     "output_type": "stream",
     "text": [
      "   col1\n",
      "0    10\n",
      "1    20\n",
      "2    30\n",
      "3    40\n"
     ]
    }
   ],
   "source": [
    "df5 = df4.drop(['col2'], axis=1)  # удаление столбца col2\n",
    "print(df5)"
   ]
  },
  {
   "cell_type": "code",
   "execution_count": 73,
   "metadata": {},
   "outputs": [
    {
     "name": "stdout",
     "output_type": "stream",
     "text": [
      "   col1 col2\n",
      "2    30   v3\n",
      "3    40   v2\n"
     ]
    }
   ],
   "source": [
    "df6 = df4.drop([0, 1], axis=0)  # удаление строк с индексами 0 и 1\n",
    "print(df6)"
   ]
  },
  {
   "cell_type": "markdown",
   "metadata": {},
   "source": [
    "Статистические функции:"
   ]
  },
  {
   "cell_type": "code",
   "execution_count": 86,
   "metadata": {},
   "outputs": [],
   "source": [
    "df7 = pd.DataFrame({\"col1\": [1, 2, 3, 4], \"col2\": [10, 5, 30, 40]})"
   ]
  },
  {
   "cell_type": "code",
   "execution_count": 90,
   "metadata": {},
   "outputs": [
    {
     "name": "stdout",
     "output_type": "stream",
     "text": [
      "col1     2.50\n",
      "col2    21.25\n",
      "dtype: float64\n"
     ]
    }
   ],
   "source": [
    "print(df7.mean())  # вычисление среднего"
   ]
  },
  {
   "cell_type": "code",
   "execution_count": 91,
   "metadata": {},
   "outputs": [
    {
     "name": "stdout",
     "output_type": "stream",
     "text": [
      "col1     1.290994\n",
      "col2    16.520190\n",
      "dtype: float64\n"
     ]
    }
   ],
   "source": [
    "print(df7.std())  # вычисление среднеквадратического отклонения"
   ]
  },
  {
   "cell_type": "code",
   "execution_count": 92,
   "metadata": {},
   "outputs": [
    {
     "name": "stdout",
     "output_type": "stream",
     "text": [
      "          col1      col2\n",
      "col1  1.000000  0.898684\n",
      "col2  0.898684  1.000000\n"
     ]
    }
   ],
   "source": [
    "print(df7.corr())  # вычисление корреляции"
   ]
  },
  {
   "cell_type": "markdown",
   "metadata": {},
   "source": [
    "## Matplotlib"
   ]
  },
  {
   "cell_type": "markdown",
   "metadata": {},
   "source": [
    "**Matplotlib** - библиотека для визуализации данных"
   ]
  },
  {
   "cell_type": "code",
   "execution_count": 94,
   "metadata": {},
   "outputs": [
    {
     "name": "stderr",
     "output_type": "stream",
     "text": [
      "UsageError: Line magic function `%matplotlib.inline` not found.\n"
     ]
    }
   ],
   "source": [
    "%matplotlib.inline\n",
    "import matplotlib.pyplot as plt"
   ]
  },
  {
   "cell_type": "markdown",
   "metadata": {},
   "source": [
    "### Plot"
   ]
  },
  {
   "cell_type": "markdown",
   "metadata": {},
   "source": [
    "Plot отображает точки на плоскости и соединяет их прямыми."
   ]
  },
  {
   "cell_type": "code",
   "execution_count": 95,
   "metadata": {},
   "outputs": [
    {
     "data": {
      "image/png": "[encoded data removed]",
      "text/plain": [
       "<Figure size 640x480 with 1 Axes>"
      ]
     },
     "metadata": {},
     "output_type": "display_data"
    }
   ],
   "source": [
    "x = [2, 1, 3, -2]\n",
    "y = [5, 3, 3, 4]\n",
    "plt.plot(x, y)\n",
    "plt.show()"
   ]
  },
  {
   "cell_type": "markdown",
   "metadata": {},
   "source": [
    "Данные можно взять сразу из DataFrame:"
   ]
  },
  {
   "cell_type": "code",
   "execution_count": 96,
   "metadata": {},
   "outputs": [
    {
     "data": {
      "image/png": "[encoded data removed]",
      "text/plain": [
       "<Figure size 640x480 with 1 Axes>"
      ]
     },
     "metadata": {},
     "output_type": "display_data"
    }
   ],
   "source": [
    "plt_df = pd.DataFrame({'col1': [1,4,3,2], 'col2': [-1, 2, 4, 3]})\n",
    "plt_df_sorted = plt_df.sort_values(\"col1\")\n",
    "plt.plot('col1', 'col2', data=plt_df_sorted)\n",
    "plt.show()"
   ]
  },
  {
   "cell_type": "markdown",
   "metadata": {},
   "source": [
    "### Оформление полотна"
   ]
  },
  {
   "cell_type": "markdown",
   "metadata": {},
   "source": []
  },
  {
   "cell_type": "code",
   "execution_count": 107,
   "metadata": {},
   "outputs": [
    {
     "data": {
      "image/png": "[encoded data removed]",
      "text/plain": [
       "<Figure size 640x480 with 1 Axes>"
      ]
     },
     "metadata": {},
     "output_type": "display_data"
    }
   ],
   "source": [
    "plt.plot(x, y, label='Some Plot')\n",
    "plt.title(\"Title\")  # название графика\n",
    "plt.xticks([-5, 0, 5], ['a', 'b', 'c'])  # название, отображаемое по оси X (Y)\n",
    "plt.xlim(-10, 10)  # диапазон, отображаемый по X (Y)\n",
    "plt.xlabel(\"X Label\")  # подпись по оси X\n",
    "plt.legend(loc='upper right')  # отображение описания графиков\n",
    "plt.grid()  # отображение сетки полотна"
   ]
  },
  {
   "cell_type": "markdown",
   "metadata": {},
   "source": [
    "### Точечные диаграммы"
   ]
  },
  {
   "cell_type": "code",
   "execution_count": 127,
   "metadata": {},
   "outputs": [
    {
     "data": {
      "text/plain": [
       "<matplotlib.collections.PathCollection at 0x123ba1e10>"
      ]
     },
     "execution_count": 127,
     "metadata": {},
     "output_type": "execute_result"
    },
    {
     "data": {
      "image/png": "[encoded data removed]",
      "text/plain": [
       "<Figure size 640x480 with 1 Axes>"
      ]
     },
     "metadata": {},
     "output_type": "display_data"
    }
   ],
   "source": [
    "import random\n",
    "x = [random.randint(500, 900) for _ in range(50)] + [random.randint(700, 1500) for _ in range(50)]\n",
    "y = [random.randint(50, 900) for _ in range(50)] + [random.randint(700, 1500) for _ in range(50)]\n",
    "\n",
    "plt.scatter(x, y)"
   ]
  }
 ],
 "metadata": {
  "kernelspec": {
   "display_name": "venv",
   "language": "python",
   "name": "python3"
  },
  "language_info": {
   "codemirror_mode": {
    "name": "ipython",
    "version": 3
   },
   "file_extension": ".py",
   "mimetype": "text/x-python",
   "name": "python",
   "nbconvert_exporter": "python",
   "pygments_lexer": "ipython3",
   "version": "3.11.1"
  }
 },
 "nbformat": 4,
 "nbformat_minor": 2
}
